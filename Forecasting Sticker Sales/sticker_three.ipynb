{
 "cells": [
  {
   "cell_type": "code",
   "execution_count": 24,
   "id": "693fa837-62c3-4a16-a8ff-98d50adfee25",
   "metadata": {},
   "outputs": [],
   "source": [
    "import pandas as pd\n",
    "import numpy as np"
   ]
  },
  {
   "cell_type": "code",
   "execution_count": 25,
   "id": "f8370c09-275e-4bc8-844a-e095f9dcefc7",
   "metadata": {},
   "outputs": [],
   "source": [
    "data = pd.read_csv(\"train.csv\")"
   ]
  },
  {
   "cell_type": "code",
   "execution_count": 26,
   "id": "cac0783c-dc6d-4f1b-844a-24eeb5a079f9",
   "metadata": {},
   "outputs": [
    {
     "data": {
      "text/html": [
       "<div>\n",
       "<style scoped>\n",
       "    .dataframe tbody tr th:only-of-type {\n",
       "        vertical-align: middle;\n",
       "    }\n",
       "\n",
       "    .dataframe tbody tr th {\n",
       "        vertical-align: top;\n",
       "    }\n",
       "\n",
       "    .dataframe thead th {\n",
       "        text-align: right;\n",
       "    }\n",
       "</style>\n",
       "<table border=\"1\" class=\"dataframe\">\n",
       "  <thead>\n",
       "    <tr style=\"text-align: right;\">\n",
       "      <th></th>\n",
       "      <th>id</th>\n",
       "      <th>date</th>\n",
       "      <th>country</th>\n",
       "      <th>store</th>\n",
       "      <th>product</th>\n",
       "      <th>num_sold</th>\n",
       "    </tr>\n",
       "  </thead>\n",
       "  <tbody>\n",
       "    <tr>\n",
       "      <th>0</th>\n",
       "      <td>0</td>\n",
       "      <td>2010-01-01</td>\n",
       "      <td>Canada</td>\n",
       "      <td>Discount Stickers</td>\n",
       "      <td>Holographic Goose</td>\n",
       "      <td>NaN</td>\n",
       "    </tr>\n",
       "    <tr>\n",
       "      <th>1</th>\n",
       "      <td>1</td>\n",
       "      <td>2010-01-01</td>\n",
       "      <td>Canada</td>\n",
       "      <td>Discount Stickers</td>\n",
       "      <td>Kaggle</td>\n",
       "      <td>973.0</td>\n",
       "    </tr>\n",
       "    <tr>\n",
       "      <th>2</th>\n",
       "      <td>2</td>\n",
       "      <td>2010-01-01</td>\n",
       "      <td>Canada</td>\n",
       "      <td>Discount Stickers</td>\n",
       "      <td>Kaggle Tiers</td>\n",
       "      <td>906.0</td>\n",
       "    </tr>\n",
       "    <tr>\n",
       "      <th>3</th>\n",
       "      <td>3</td>\n",
       "      <td>2010-01-01</td>\n",
       "      <td>Canada</td>\n",
       "      <td>Discount Stickers</td>\n",
       "      <td>Kerneler</td>\n",
       "      <td>423.0</td>\n",
       "    </tr>\n",
       "    <tr>\n",
       "      <th>4</th>\n",
       "      <td>4</td>\n",
       "      <td>2010-01-01</td>\n",
       "      <td>Canada</td>\n",
       "      <td>Discount Stickers</td>\n",
       "      <td>Kerneler Dark Mode</td>\n",
       "      <td>491.0</td>\n",
       "    </tr>\n",
       "  </tbody>\n",
       "</table>\n",
       "</div>"
      ],
      "text/plain": [
       "   id        date country              store             product  num_sold\n",
       "0   0  2010-01-01  Canada  Discount Stickers   Holographic Goose       NaN\n",
       "1   1  2010-01-01  Canada  Discount Stickers              Kaggle     973.0\n",
       "2   2  2010-01-01  Canada  Discount Stickers        Kaggle Tiers     906.0\n",
       "3   3  2010-01-01  Canada  Discount Stickers            Kerneler     423.0\n",
       "4   4  2010-01-01  Canada  Discount Stickers  Kerneler Dark Mode     491.0"
      ]
     },
     "execution_count": 26,
     "metadata": {},
     "output_type": "execute_result"
    }
   ],
   "source": [
    "data.head()"
   ]
  },
  {
   "cell_type": "code",
   "execution_count": 27,
   "id": "42ebb2fe-83be-4897-9e76-275481b08e9b",
   "metadata": {},
   "outputs": [
    {
     "data": {
      "text/plain": [
       "(230130, 6)"
      ]
     },
     "execution_count": 27,
     "metadata": {},
     "output_type": "execute_result"
    }
   ],
   "source": [
    "data.shape"
   ]
  },
  {
   "cell_type": "code",
   "execution_count": 28,
   "id": "cbbcc0de-a926-4ec9-a367-aa5d06f47e77",
   "metadata": {},
   "outputs": [
    {
     "data": {
      "text/plain": [
       "id             0\n",
       "date           0\n",
       "country        0\n",
       "store          0\n",
       "product        0\n",
       "num_sold    8871\n",
       "dtype: int64"
      ]
     },
     "execution_count": 28,
     "metadata": {},
     "output_type": "execute_result"
    }
   ],
   "source": [
    "data.isna().sum()"
   ]
  },
  {
   "cell_type": "code",
   "execution_count": 29,
   "id": "a4651b17-a03b-4457-b838-4876cf58ccba",
   "metadata": {},
   "outputs": [
    {
     "data": {
      "text/plain": [
       "Index(['id', 'date', 'country', 'store', 'product', 'num_sold'], dtype='object')"
      ]
     },
     "execution_count": 29,
     "metadata": {},
     "output_type": "execute_result"
    }
   ],
   "source": [
    "data.columns"
   ]
  },
  {
   "cell_type": "code",
   "execution_count": 30,
   "id": "20b47ca9-3e3b-42f7-a006-df4d91a1e249",
   "metadata": {},
   "outputs": [],
   "source": [
    "#encoding of data (one hot)\n",
    "data_encoded = pd.get_dummies(data, columns=['country', 'store', 'product'], drop_first=True)"
   ]
  },
  {
   "cell_type": "code",
   "execution_count": 31,
   "id": "b57ac01d-7886-411f-a94d-3778272b5896",
   "metadata": {},
   "outputs": [],
   "source": [
    "# Convert the 'date' column to datetime format\n",
    "data_encoded['date'] = pd.to_datetime(data_encoded['date'])\n",
    "\n",
    "# Extract features from the 'date' column\n",
    "data_encoded['year'] = data_encoded['date'].dt.year\n",
    "data_encoded['month'] = data_encoded['date'].dt.month\n",
    "data_encoded['day'] = data_encoded['date'].dt.day\n",
    "data_encoded['day_of_week'] = data_encoded['date'].dt.dayofweek  # Monday=0, Sunday=6\n",
    "data_encoded['is_weekend'] = (data_encoded['day_of_week'] >= 5).astype(int)\n",
    "\n",
    "# Drop the original 'date' column (optional, if not needed)\n",
    "data_encoded = data_encoded.drop('date', axis=1)"
   ]
  },
  {
   "cell_type": "code",
   "execution_count": 32,
   "id": "a6ff4fcb-d617-4749-b409-22404f8f1d1d",
   "metadata": {},
   "outputs": [],
   "source": [
    "from sklearn.impute import KNNImputer\n",
    "from sklearn.ensemble import RandomForestRegressor\n",
    "from sklearn.model_selection import train_test_split"
   ]
  },
  {
   "cell_type": "code",
   "execution_count": 33,
   "id": "12fa2780-c8df-4bd3-b860-12f5b8f93f2f",
   "metadata": {},
   "outputs": [],
   "source": [
    "knn_imputer = KNNImputer(n_neighbors=5)\n",
    "data_encoded['num_sold']=knn_imputer.fit_transform(data_encoded[['num_sold']])"
   ]
  },
  {
   "cell_type": "code",
   "execution_count": 34,
   "id": "fed102b9-52ab-40d0-8808-d963db33c51e",
   "metadata": {},
   "outputs": [
    {
     "data": {
      "text/plain": [
       "id                            0\n",
       "num_sold                      0\n",
       "country_Finland               0\n",
       "country_Italy                 0\n",
       "country_Kenya                 0\n",
       "country_Norway                0\n",
       "country_Singapore             0\n",
       "store_Premium Sticker Mart    0\n",
       "store_Stickers for Less       0\n",
       "product_Kaggle                0\n",
       "product_Kaggle Tiers          0\n",
       "product_Kerneler              0\n",
       "product_Kerneler Dark Mode    0\n",
       "year                          0\n",
       "month                         0\n",
       "day                           0\n",
       "day_of_week                   0\n",
       "is_weekend                    0\n",
       "dtype: int64"
      ]
     },
     "execution_count": 34,
     "metadata": {},
     "output_type": "execute_result"
    }
   ],
   "source": [
    "data_encoded.isna().sum()"
   ]
  },
  {
   "cell_type": "code",
   "execution_count": 35,
   "id": "f82633f1-10c6-4dc2-9c48-9d2a5f19e3d3",
   "metadata": {},
   "outputs": [
    {
     "data": {
      "text/plain": [
       "0          752.527382\n",
       "1          973.000000\n",
       "2          906.000000\n",
       "3          423.000000\n",
       "4          491.000000\n",
       "             ...     \n",
       "230125     466.000000\n",
       "230126    2907.000000\n",
       "230127    2299.000000\n",
       "230128    1242.000000\n",
       "230129    1622.000000\n",
       "Name: num_sold, Length: 230130, dtype: float64"
      ]
     },
     "execution_count": 35,
     "metadata": {},
     "output_type": "execute_result"
    }
   ],
   "source": [
    "data_encoded['num_sold']"
   ]
  },
  {
   "cell_type": "code",
   "execution_count": 36,
   "id": "c77a335b-7721-4bae-97be-9b56d7cbbdb8",
   "metadata": {},
   "outputs": [],
   "source": [
    "x=data_encoded.drop('num_sold',axis=1)\n",
    "y=data_encoded['num_sold']"
   ]
  },
  {
   "cell_type": "code",
   "execution_count": 37,
   "id": "d02d4a93-226c-43b2-a059-7b51c28641fb",
   "metadata": {},
   "outputs": [],
   "source": [
    "xtrain,xval,ytrain,yval = train_test_split(x, y, test_size=0.2, random_state=42)"
   ]
  },
  {
   "cell_type": "code",
   "execution_count": 38,
   "id": "baccba10-f297-441f-a3ff-17fe27d2a574",
   "metadata": {},
   "outputs": [],
   "source": [
    "model = RandomForestRegressor()\n",
    "model.fit(xtrain,ytrain)\n",
    "ypred = model.predict(xval)"
   ]
  },
  {
   "cell_type": "code",
   "execution_count": 39,
   "id": "b1cb071f-de81-406a-9094-3f24227364e9",
   "metadata": {},
   "outputs": [
    {
     "name": "stdout",
     "output_type": "stream",
     "text": [
      "0.9872841830756564\n",
      "76.38617863138145\n"
     ]
    }
   ],
   "source": [
    "from sklearn.metrics import root_mean_squared_error,r2_score\n",
    "print(r2_score(yval,ypred))\n",
    "print(root_mean_squared_error(yval,ypred))"
   ]
  },
  {
   "cell_type": "code",
   "execution_count": 40,
   "id": "c90a3dab-4025-4fc9-8e70-98faede9f37f",
   "metadata": {},
   "outputs": [],
   "source": [
    "### TEST DATA TEST.CSV"
   ]
  },
  {
   "cell_type": "code",
   "execution_count": 46,
   "id": "24baf550-1581-42e9-bccd-9ebcc413b5e3",
   "metadata": {},
   "outputs": [
    {
     "name": "stdout",
     "output_type": "stream",
     "text": [
      "Predictions saved to 'final_predictions.csv'.\n"
     ]
    }
   ],
   "source": [
    "test_data = pd.read_csv('test.csv')\n",
    "\n",
    "#'date' column to datetime format and extract date features\n",
    "test_data['date'] = pd.to_datetime(test_data['date'])\n",
    "test_data['year'] = test_data['date'].dt.year\n",
    "test_data['month'] = test_data['date'].dt.month\n",
    "test_data['day'] = test_data['date'].dt.day\n",
    "test_data['day_of_week'] = test_data['date'].dt.dayofweek\n",
    "test_data['is_weekend'] = (test_data['day_of_week'] >= 5).astype(int)\n",
    "\n",
    "test_data = test_data.drop('date', axis=1)\n",
    "\n",
    "# one-hot encoding \n",
    "test_data_encoded = pd.get_dummies(test_data, columns=['country', 'store', 'product'], drop_first=True)\n",
    "\n",
    "# Align the test data with training data (handle missing columns)\n",
    "missing_cols = set(data_encoded.columns) - set(test_data_encoded.columns)\n",
    "for col in missing_cols:\n",
    "    test_data_encoded[col] = 0  # Add missing columns with default value\n",
    "\n",
    "# Ensure column order matches training data\n",
    "test_data_encoded = test_data_encoded[data_encoded.columns.drop('num_sold')]\n",
    "\n",
    "# Predict using the trained model\n",
    "predictions = model.predict(test_data_encoded)\n",
    "\n",
    "final_predictions = pd.DataFrame({\n",
    "    \"id\": test_data[\"id\"],  \n",
    "    \"num_sold\": predictions \n",
    "})\n",
    "final_predictions.to_csv(\"final_predictions.csv\", index=False)\n",
    "print(\"Predictions saved to 'final_predictions.csv'.\")"
   ]
  },
  {
   "cell_type": "code",
   "execution_count": null,
   "id": "f04dbc72-0631-4632-80ba-e11c9853566e",
   "metadata": {},
   "outputs": [],
   "source": []
  }
 ],
 "metadata": {
  "kernelspec": {
   "display_name": "Python 3 (ipykernel)",
   "language": "python",
   "name": "python3"
  },
  "language_info": {
   "codemirror_mode": {
    "name": "ipython",
    "version": 3
   },
   "file_extension": ".py",
   "mimetype": "text/x-python",
   "name": "python",
   "nbconvert_exporter": "python",
   "pygments_lexer": "ipython3",
   "version": "3.12.2"
  }
 },
 "nbformat": 4,
 "nbformat_minor": 5
}
